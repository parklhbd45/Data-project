{
 "cells": [
  {
   "cell_type": "markdown",
   "metadata": {},
   "source": [
    "<p style=\"text-align:center\">\n",
    "    <a href=\"https://skills.network/?utm_medium=Exinfluencer&utm_source=Exinfluencer&utm_content=000026UJ&utm_term=10006555&utm_id=NA-SkillsNetwork-Channel-SkillsNetworkCoursesIBMDS0321ENSkillsNetwork26802033-2022-01-01\" target=\"_blank\">\n",
    "    <img src=\"https://cf-courses-data.s3.us.cloud-object-storage.appdomain.cloud/assets/logos/SN_web_lightmode.png\" width=\"200\" alt=\"Skills Network Logo\"  />\n",
    "    </a>\n",
    "</p>\n",
    "\n",
    "<h1 align=center><font size = 5>Assignment: SQL Notebook for Peer Assignment</font></h1>\n",
    "\n",
    "Estimated time needed: **60** minutes.\n",
    "\n",
    "## Introduction\n",
    "\n",
    "Using this Python notebook you will:\n",
    "\n",
    "1.  Understand the Spacex DataSet\n",
    "2.  Load the dataset  into the corresponding table in a Db2 database\n",
    "3.  Execute SQL queries to answer assignment questions\n"
   ]
  },
  {
   "cell_type": "markdown",
   "metadata": {},
   "source": [
    "## Overview of the DataSet\n",
    "\n",
    "SpaceX has gained worldwide attention for a series of historic milestones.\n",
    "\n",
    "It is the only private company ever to return a spacecraft from low-earth orbit, which it first accomplished in December 2010.\n",
    "SpaceX advertises Falcon 9 rocket launches on its website with a cost of 62 million dollars wheras other providers cost upward of 165 million dollars each, much of the savings is because Space X can reuse the first stage.\n",
    "\n",
    "Therefore if we can determine if the first stage will land, we can determine the cost of a launch.\n",
    "\n",
    "This information can be used if an alternate company wants to bid against SpaceX for a rocket launch.\n",
    "\n",
    "This dataset includes a record for each payload carried during a SpaceX mission into outer space.\n"
   ]
  },
  {
   "cell_type": "markdown",
   "metadata": {},
   "source": [
    "### Download the datasets\n",
    "\n",
    "This assignment requires you to load the spacex dataset.\n",
    "\n",
    "In many cases the dataset to be analyzed is available as a .CSV (comma separated values) file, perhaps on the internet. Click on the link below to download and save the dataset (.CSV file):\n",
    "\n",
    "<a href=\"https://cf-courses-data.s3.us.cloud-object-storage.appdomain.cloud/IBM-DS0321EN-SkillsNetwork/labs/module_2/data/Spacex.csv?utm_medium=Exinfluencer&utm_source=Exinfluencer&utm_content=000026UJ&utm_term=10006555&utm_id=NA-SkillsNetwork-Channel-SkillsNetworkCoursesIBMDS0321ENSkillsNetwork26802033-2022-01-01\" target=\"_blank\">Spacex DataSet</a>\n"
   ]
  },
  {
   "cell_type": "markdown",
   "metadata": {},
   "source": [
    "### Store the dataset in database table\n",
    "\n",
    "**it is highly recommended to manually load the table using the database console LOAD tool in DB2**.\n",
    "\n",
    "<img src = \"https://cf-courses-data.s3.us.cloud-object-storage.appdomain.cloud/IBM-DS0321EN-SkillsNetwork/labs/module_2/images/spacexload.png\">\n",
    "\n",
    "Now open the Db2 console, open the LOAD tool, Select / Drag the .CSV file for the  dataset, Next create a New Table, and then follow the steps on-screen instructions to load the data. Name the new table as follows:\n",
    "\n",
    "**SPACEXDATASET**\n",
    "\n",
    "**Follow these steps while using old DB2 UI which is having Open Console Screen**\n",
    "\n",
    "**Note:While loading Spacex dataset, ensure that detect datatypes is disabled. Later click on the pencil icon(edit option).**\n",
    "\n",
    "1.  Change the Date Format by manually typing DD-MM-YYYY and timestamp format as DD-MM-YYYY HH\\:MM:SS\n",
    "\n",
    "2.  Change the PAYLOAD_MASS\\_\\_KG\\_  datatype  to INTEGER.\n",
    "\n",
    "<img src = \"https://cf-courses-data.s3.us.cloud-object-storage.appdomain.cloud/IBM-DS0321EN-SkillsNetwork/labs/module_2/images/spacexload2.png\">\n"
   ]
  },
  {
   "cell_type": "markdown",
   "metadata": {},
   "source": [
    "**Changes to be considered when having DB2 instance with the new UI having Go to UI screen**\n",
    "\n",
    "*   Refer to this insruction in this <a href=\"https://cf-courses-data.s3.us.cloud-object-storage.appdomain.cloud/IBMDeveloperSkillsNetwork-DB0201EN-SkillsNetwork/labs/Labs_Coursera_V5/labs/Lab%20-%20Sign%20up%20for%20IBM%20Cloud%20-%20Create%20Db2%20service%20instance%20-%20Get%20started%20with%20the%20Db2%20console/instructional-labs.md.html?utm_medium=Exinfluencer&utm_source=Exinfluencer&utm_content=000026UJ&utm_term=10006555&utm_id=NA-SkillsNetwork-Channel-SkillsNetworkCoursesIBMDS0321ENSkillsNetwork26802033-2022-01-01\">link</a> for viewing  the new  Go to UI screen.\n",
    "\n",
    "*   Later click on **Data link(below SQL)**  in the Go to UI screen  and click on **Load Data** tab.\n",
    "\n",
    "*   Later browse for the downloaded spacex file.\n",
    "\n",
    "<img src=\"https://cf-courses-data.s3.us.cloud-object-storage.appdomain.cloud/IBM-DS0321EN-SkillsNetwork/labs/module_2/images/browsefile.png\" width=\"800\"/>\n",
    "\n",
    "*   Once done select the schema andload the file.\n",
    "\n",
    " <img src=\"https://cf-courses-data.s3.us.cloud-object-storage.appdomain.cloud/IBM-DS0321EN-SkillsNetwork/labs/module_2/images/spacexload3.png\" width=\"800\"/>\n"
   ]
  },
  {
   "cell_type": "code",
   "execution_count": 1,
   "metadata": {},
   "outputs": [
    {
     "name": "stdout",
     "output_type": "stream",
     "text": [
      "Requirement already satisfied: sqlalchemy==1.3.9 in c:\\users\\asus\\anaconda3\\lib\\site-packages (1.3.9)\n",
      "Requirement already satisfied: sql in c:\\users\\asus\\anaconda3\\lib\\site-packages (2022.4.0)\n",
      "Requirement already satisfied: ipython-sql in c:\\users\\asus\\anaconda3\\lib\\site-packages (0.4.1)\n",
      "Requirement already satisfied: six in c:\\users\\asus\\anaconda3\\lib\\site-packages (from ipython-sql) (1.16.0)\n",
      "Requirement already satisfied: sqlparse in c:\\users\\asus\\anaconda3\\lib\\site-packages (from ipython-sql) (0.4.2)\n",
      "Requirement already satisfied: prettytable<1 in c:\\users\\asus\\anaconda3\\lib\\site-packages (from ipython-sql) (0.7.2)\n",
      "Requirement already satisfied: sqlalchemy>=0.6.7 in c:\\users\\asus\\anaconda3\\lib\\site-packages (from ipython-sql) (1.3.9)\n",
      "Requirement already satisfied: ipython-genutils>=0.1.0 in c:\\users\\asus\\anaconda3\\lib\\site-packages (from ipython-sql) (0.2.0)\n",
      "Requirement already satisfied: ipython>=1.0 in c:\\users\\asus\\anaconda3\\lib\\site-packages (from ipython-sql) (8.2.0)\n",
      "Requirement already satisfied: matplotlib-inline in c:\\users\\asus\\anaconda3\\lib\\site-packages (from ipython>=1.0->ipython-sql) (0.1.2)\n",
      "Requirement already satisfied: prompt-toolkit!=3.0.0,!=3.0.1,<3.1.0,>=2.0.0 in c:\\users\\asus\\anaconda3\\lib\\site-packages (from ipython>=1.0->ipython-sql) (3.0.20)\n",
      "Requirement already satisfied: setuptools>=18.5 in c:\\users\\asus\\anaconda3\\lib\\site-packages (from ipython>=1.0->ipython-sql) (61.2.0)\n",
      "Requirement already satisfied: backcall in c:\\users\\asus\\anaconda3\\lib\\site-packages (from ipython>=1.0->ipython-sql) (0.2.0)\n",
      "Requirement already satisfied: pygments>=2.4.0 in c:\\users\\asus\\anaconda3\\lib\\site-packages (from ipython>=1.0->ipython-sql) (2.11.2)\n",
      "Requirement already satisfied: decorator in c:\\users\\asus\\anaconda3\\lib\\site-packages (from ipython>=1.0->ipython-sql) (5.1.1)\n",
      "Requirement already satisfied: pickleshare in c:\\users\\asus\\anaconda3\\lib\\site-packages (from ipython>=1.0->ipython-sql) (0.7.5)\n",
      "Requirement already satisfied: stack-data in c:\\users\\asus\\anaconda3\\lib\\site-packages (from ipython>=1.0->ipython-sql) (0.2.0)\n",
      "Requirement already satisfied: traitlets>=5 in c:\\users\\asus\\anaconda3\\lib\\site-packages (from ipython>=1.0->ipython-sql) (5.1.1)\n",
      "Requirement already satisfied: colorama in c:\\users\\asus\\anaconda3\\lib\\site-packages (from ipython>=1.0->ipython-sql) (0.4.4)\n",
      "Requirement already satisfied: jedi>=0.16 in c:\\users\\asus\\anaconda3\\lib\\site-packages (from ipython>=1.0->ipython-sql) (0.18.1)\n",
      "Requirement already satisfied: parso<0.9.0,>=0.8.0 in c:\\users\\asus\\anaconda3\\lib\\site-packages (from jedi>=0.16->ipython>=1.0->ipython-sql) (0.8.3)\n",
      "Requirement already satisfied: wcwidth in c:\\users\\asus\\anaconda3\\lib\\site-packages (from prompt-toolkit!=3.0.0,!=3.0.1,<3.1.0,>=2.0.0->ipython>=1.0->ipython-sql) (0.2.5)\n",
      "Requirement already satisfied: executing in c:\\users\\asus\\anaconda3\\lib\\site-packages (from stack-data->ipython>=1.0->ipython-sql) (0.8.3)\n",
      "Requirement already satisfied: asttokens in c:\\users\\asus\\anaconda3\\lib\\site-packages (from stack-data->ipython>=1.0->ipython-sql) (2.0.5)\n",
      "Requirement already satisfied: pure-eval in c:\\users\\asus\\anaconda3\\lib\\site-packages (from stack-data->ipython>=1.0->ipython-sql) (0.2.2)\n"
     ]
    }
   ],
   "source": [
    "!pip install sqlalchemy==1.3.9\n",
    "!pip install sql\n",
    "!pip3 install ipython-sql\n"
   ]
  },
  {
   "cell_type": "markdown",
   "metadata": {},
   "source": [
    "### Connect to the database\n",
    "\n",
    "Let us first load the SQL extension and establish a connection with the database\n"
   ]
  },
  {
   "cell_type": "code",
   "execution_count": 2,
   "metadata": {},
   "outputs": [
    {
     "name": "stdout",
     "output_type": "stream",
     "text": [
      "           Date Time (UTC) Booster_Version   Launch_Site                                                        Payload  PAYLOAD_MASS__KG_        Orbit                                                   Customer                   Mission_Outcome        Landing _Outcome\n",
      "0    04-06-2010   18:45:00  F9 v1.0  B0003   CCAFS LC-40                           Dragon Spacecraft Qualification Unit                  0          LEO                                                     SpaceX                           Success     Failure (parachute)\n",
      "1    08-12-2010   15:43:00  F9 v1.0  B0004   CCAFS LC-40  Dragon demo flight C1, two CubeSats, barrel of Brouere cheese                  0    LEO (ISS)                                            NASA (COTS) NRO                           Success     Failure (parachute)\n",
      "2    22-05-2012   07:44:00  F9 v1.0  B0005   CCAFS LC-40                                          Dragon demo flight C2                525    LEO (ISS)                                                NASA (COTS)                           Success              No attempt\n",
      "3    08-10-2012   00:35:00  F9 v1.0  B0006   CCAFS LC-40                                                   SpaceX CRS-1                500    LEO (ISS)                                                 NASA (CRS)                           Success              No attempt\n",
      "4    01-03-2013   15:10:00  F9 v1.0  B0007   CCAFS LC-40                                                   SpaceX CRS-2                677    LEO (ISS)                                                 NASA (CRS)                           Success              No attempt\n",
      "5    29-09-2013   16:00:00  F9 v1.1  B1003   VAFB SLC-4E                                                       CASSIOPE                500    Polar LEO                                                        MDA                           Success    Uncontrolled (ocean)\n",
      "6    03-12-2013   22:41:00         F9 v1.1   CCAFS LC-40                                                          SES-8               3170          GTO                                                        SES                           Success              No attempt\n",
      "7    06-01-2014   22:06:00         F9 v1.1   CCAFS LC-40                                                      Thaicom 6               3325          GTO                                                    Thaicom                           Success              No attempt\n",
      "8    18-04-2014   19:25:00         F9 v1.1   CCAFS LC-40                                                   SpaceX CRS-3               2296    LEO (ISS)                                                 NASA (CRS)                           Success      Controlled (ocean)\n",
      "9    14-07-2014   15:15:00         F9 v1.1   CCAFS LC-40                        OG2 Mission 1  6 Orbcomm-OG2 satellites               1316          LEO                                                    Orbcomm                           Success      Controlled (ocean)\n",
      "10   05-08-2014   08:00:00         F9 v1.1   CCAFS LC-40                                                      AsiaSat 8               4535          GTO                                                    AsiaSat                           Success              No attempt\n",
      "11   07-09-2014   05:00:00   F9 v1.1 B1011   CCAFS LC-40                                                      AsiaSat 6               4428          GTO                                                    AsiaSat                           Success              No attempt\n",
      "12   21-09-2014   05:52:00   F9 v1.1 B1010   CCAFS LC-40                                                   SpaceX CRS-4               2216    LEO (ISS)                                                 NASA (CRS)                           Success    Uncontrolled (ocean)\n",
      "13   10-01-2015   09:47:00   F9 v1.1 B1012   CCAFS LC-40                                                   SpaceX CRS-5               2395    LEO (ISS)                                                 NASA (CRS)                           Success    Failure (drone ship)\n",
      "14   11-02-2015   23:03:00   F9 v1.1 B1013   CCAFS LC-40                                                         DSCOVR                570          HEO                                   U.S. Air Force NASA NOAA                           Success      Controlled (ocean)\n",
      "15   02-03-2015   03:50:00   F9 v1.1 B1014   CCAFS LC-40                                     ABS-3A Eutelsat 115 West B               4159          GTO                                               ABS Eutelsat                           Success              No attempt\n",
      "16   14-04-2015   20:10:00   F9 v1.1 B1015   CCAFS LC-40                                                   SpaceX CRS-6               1898    LEO (ISS)                                                 NASA (CRS)                           Success    Failure (drone ship)\n",
      "17   27-04-2015   23:03:00   F9 v1.1 B1016   CCAFS LC-40                                         Turkmen 52 / MonacoSAT               4707          GTO                         Turkmenistan National Space Agency                           Success              No attempt\n",
      "18   28-06-2015   14:21:00   F9 v1.1 B1018   CCAFS LC-40                                                   SpaceX CRS-7               1952    LEO (ISS)                                                 NASA (CRS)               Failure (in flight)  Precluded (drone ship)\n",
      "19   22-12-2015   01:29:00     F9 FT B1019   CCAFS LC-40                       OG2 Mission 2  11 Orbcomm-OG2 satellites               2034          LEO                                                    Orbcomm                           Success    Success (ground pad)\n",
      "20   17-01-2016   18:42:00   F9 v1.1 B1017   VAFB SLC-4E                                                        Jason-3                553          LEO                                       NASA (LSP) NOAA CNES                           Success    Failure (drone ship)\n",
      "21   04-03-2016   23:35:00     F9 FT B1020   CCAFS LC-40                                                          SES-9               5271          GTO                                                        SES                           Success    Failure (drone ship)\n",
      "22   08-04-2016   20:43:00   F9 FT B1021.1   CCAFS LC-40                                                   SpaceX CRS-8               3136    LEO (ISS)                                                 NASA (CRS)                           Success    Success (drone ship)\n",
      "23   06-05-2016   05:21:00     F9 FT B1022   CCAFS LC-40                                                       JCSAT-14               4696          GTO                                     SKY Perfect JSAT Group                           Success    Success (drone ship)\n",
      "24   27-05-2016   21:39:00   F9 FT B1023.1   CCAFS LC-40                                                      Thaicom 8               3100          GTO                                                    Thaicom                           Success    Success (drone ship)\n",
      "25   15-06-2016   14:29:00     F9 FT B1024   CCAFS LC-40                                     ABS-2A Eutelsat 117 West B               3600          GTO                                               ABS Eutelsat                           Success    Failure (drone ship)\n",
      "26   18-07-2016   04:45:00   F9 FT B1025.1   CCAFS LC-40                                                   SpaceX CRS-9               2257    LEO (ISS)                                                 NASA (CRS)                           Success    Success (ground pad)\n",
      "27   14-08-2016   05:26:00     F9 FT B1026   CCAFS LC-40                                                       JCSAT-16               4600          GTO                                     SKY Perfect JSAT Group                           Success    Success (drone ship)\n",
      "28   14-01-2017   17:54:00   F9 FT B1029.1   VAFB SLC-4E                                                 Iridium NEXT 1               9600    Polar LEO                                     Iridium Communications                           Success    Success (drone ship)\n",
      "29   19-02-2017   14:39:00   F9 FT B1031.1    KSC LC-39A                                                  SpaceX CRS-10               2490    LEO (ISS)                                                 NASA (CRS)                           Success    Success (ground pad)\n",
      "30   16-03-2017   06:00:00     F9 FT B1030    KSC LC-39A                                                    EchoStar 23               5600          GTO                                                   EchoStar                           Success              No attempt\n",
      "31   30-03-2017   22:27:00  F9 FT  B1021.2    KSC LC-39A                                                         SES-10               5300          GTO                                                        SES                           Success    Success (drone ship)\n",
      "32   01-05-2017   11:15:00   F9 FT B1032.1    KSC LC-39A                                                        NROL-76               5300          LEO                                                        NRO                           Success    Success (ground pad)\n",
      "33   15-05-2017   23:21:00     F9 FT B1034    KSC LC-39A                                                  Inmarsat-5 F4               6070          GTO                                                   Inmarsat                           Success              No attempt\n",
      "34   03-06-2017   21:07:00   F9 FT B1035.1    KSC LC-39A                                                  SpaceX CRS-11               2708    LEO (ISS)                                                 NASA (CRS)                           Success    Success (ground pad)\n",
      "35   23-06-2017   19:10:00  F9 FT  B1029.2    KSC LC-39A                                                  BulgariaSat-1               3669          GTO                                                  Bulsatcom                           Success    Success (drone ship)\n",
      "36   25-06-2017   20:25:00   F9 FT B1036.1   VAFB SLC-4E                                                 Iridium NEXT 2               9600          LEO                                     Iridium Communications                           Success    Success (drone ship)\n",
      "37   05-07-2017   23:38:00     F9 FT B1037    KSC LC-39A                                                   Intelsat 35e               6761          GTO                                                   Intelsat                           Success              No attempt\n",
      "38   14-08-2017   16:31:00   F9 B4 B1039.1    KSC LC-39A                                                  SpaceX CRS-12               3310    LEO (ISS)                                                 NASA (CRS)                           Success    Success (ground pad)\n",
      "39   24-08-2017   18:51:00   F9 FT B1038.1   VAFB SLC-4E                                                     Formosat-5                475          SSO                                                       NSPO                           Success    Success (drone ship)\n",
      "40   07-09-2017   14:00:00   F9 B4 B1040.1    KSC LC-39A                                             Boeing X-37B OTV-5               4990          LEO                                             U.S. Air Force                           Success    Success (ground pad)\n",
      "41   09-10-2017   12:37:00   F9 B4 B1041.1   VAFB SLC-4E                                                 Iridium NEXT 3               9600    Polar LEO                                     Iridium Communications                           Success    Success (drone ship)\n",
      "42   11-10-2017   22:53:00  F9 FT  B1031.2    KSC LC-39A                                          SES-11 / EchoStar 105               5200          GTO                                               SES EchoStar                           Success    Success (drone ship)\n",
      "43   30-10-2017   19:34:00   F9 B4 B1042.1    KSC LC-39A                                                    Koreasat 5A               3500          GTO                                             KT Corporation                           Success    Success (drone ship)\n",
      "44   15-12-2017   15:36:00  F9 FT  B1035.2  CCAFS SLC-40                                                  SpaceX CRS-13               2205    LEO (ISS)                                                 NASA (CRS)                           Success    Success (ground pad)\n",
      "45   23-12-2017   01:27:00  F9 FT  B1036.2   VAFB SLC-4E                                                 Iridium NEXT 4               9600    Polar LEO                                     Iridium Communications                           Success      Controlled (ocean)\n",
      "46   08-01-2018   01:00:00   F9 B4 B1043.1  CCAFS SLC-40                                                           Zuma               5000          LEO                                           Northrop Grumman  Success (payload status unclear)    Success (ground pad)\n",
      "47   31-01-2018   21:25:00  F9 FT  B1032.2  CCAFS SLC-40                                              GovSat-1 / SES-16               4230          GTO                                                        SES                           Success      Controlled (ocean)\n",
      "48   22-02-2018   14:17:00  F9 FT  B1038.2   VAFB SLC-4E                                              Paz  Tintin A & B               2150          SSO                                 Hisdesat exactEarth SpaceX                           Success              No attempt\n",
      "49   06-03-2018   05:33:00     F9 B4 B1044  CCAFS SLC-40                                         Hispasat 30W-6  PODSat               6092          GTO                                        Hispasat  NovaWurks                           Success              No attempt\n",
      "50   30-03-2018   14:14:00  F9 B4  B1041.2   VAFB SLC-4E                                                 Iridium NEXT 5               9600    Polar LEO                                     Iridium Communications                           Success              No attempt\n",
      "51   02-04-2018   20:30:00  F9 B4  B1039.2  CCAFS SLC-40                                                  SpaceX CRS-14               2647    LEO (ISS)                                                 NASA (CRS)                           Success              No attempt\n",
      "52   18-04-2018   22:51:00   F9 B4 B1045.1  CCAFS SLC-40                   Transiting Exoplanet Survey Satellite (TESS)                362          HEO                                                 NASA (LSP)                           Success    Success (drone ship)\n",
      "53   11-05-2018   20:14:00  F9 B5  B1046.1    KSC LC-39A                                                  Bangabandhu-1               3600          GTO                                         Thales-Alenia/BTRC                           Success    Success (drone ship)\n",
      "54   22-05-2018   19:47:58  F9 B4  B1043.2   VAFB SLC-4E                                 Iridium NEXT 6   GRACE-FO 1, 2               6460    Polar LEO                          Iridium Communications GFZ ‚ NASA                           Success              No attempt\n",
      "55   04-06-2018   04:45:00  F9 B4  B1040.2  CCAFS SLC-40                                                         SES-12               5384          GTO                                                        SES                           Success              No attempt\n",
      "56   29-06-2018   09:42:00   F9 B4 B1045.2  CCAFS SLC-40                                                  SpaceX CRS-15               2697    LEO (ISS)                                                 NASA (CRS)                           Success              No attempt\n",
      "57   22-07-2018   05:50:00    F9 B5B1047.1  CCAFS SLC-40                                                    Telstar 19V               7075          GTO                                                    Telesat                           Success                 Success\n",
      "58   25-07-2018   11:39:00    F9 B5B1048.1   VAFB SLC-4E                                                 Iridium NEXT-7               9600    Polar LEO                                     Iridium Communications                           Success                 Success\n",
      "59   07-08-2018   05:18:00   F9 B5 B1046.2  CCAFS SLC-40                                                   Merah Putih                5800          GTO                                           Telkom Indonesia                           Success                 Success\n",
      "60   10-09-2018   04:45:00    F9 B5B1049.1  CCAFS SLC-40                                        Telstar 18V / Apstar-5C               7060          GTO                                                    Telesat                           Success                 Success\n",
      "61   08-10-2018   02:22:00   F9 B5 B1048.2   VAFB SLC-4E                                                      SAOCOM 1A               3000          SSO                                                      CONAE                           Success                 Success\n",
      "62   15-11-2018   20:46:00   F9 B5 B1047.2    KSC LC-39A                                                      Es hail 2               5300          GTO                                                 Es hailSat                           Success                 Success\n",
      "63   03-12-2018   18:34:05   F9 B5 B1046.3   VAFB SLC-4E                                                         SSO-A                4000          SSO                                     Spaceflight Industries                           Success                 Success\n",
      "64   05-12-2018   18:16:00      F9 B5B1050  CCAFS SLC-40                                                  SpaceX CRS-16               2500    LEO (ISS)                                                 NASA (CRS)                           Success                 Failure\n",
      "65   23-12-2018   13:51:00      F9 B5B1054  CCAFS SLC-40                                                    GPS III-01                4400          MEO                                                       USAF                          Success               No attempt\n",
      "66   11-01-2019   15:31:00   F9 B5 B1049.2   VAFB SLC-4E                                                 Iridium NEXT-8               9600    Polar LEO                                     Iridium Communications                           Success                 Success\n",
      "67   22-02-2019   01:45:00   F9 B5 B1048.3  CCAFS SLC-40                      Nusantara Satu, Beresheet Moon lander, S5               4850          GTO                                         PSN, SpaceIL / IAI                           Success                 Success\n",
      "68   02-03-2019   07:49:00    F9 B5B1051.1    KSC LC-39A                             Crew Dragon Demo-1, SpaceX CRS-17               12055    LEO (ISS)                                                NASA (CCD)                            Success                 Success\n",
      "69   04-05-2019   06:48:00   F9 B5B1056.1   CCAFS SLC-40                                   SpaceX CRS-17, Starlink v0.9               2495    LEO (ISS)                                                 NASA (CRS)                           Success                 Success\n",
      "70   24-05-2019   02:30:00   F9 B5 B1049.3  CCAFS SLC-40                          Starlink v0.9, RADARSAT Constellation              13620          LEO                                                     SpaceX                           Success                 Success\n",
      "71   12-06-2019   14:17:00  F9 B5 B1051.2    VAFB SLC-4E                         RADARSAT Constellation, SpaceX CRS-18                4200          SSO                                Canadian Space Agency (CSA)                           Success                 Success\n",
      "72   25-07-2019   22:01:00  F9 B5 B1056.2   CCAFS SLC-40                                        SpaceX CRS-18, AMOS-17                2268    LEO (ISS)                                                 NASA (CRS)                           Success                 Success\n",
      "73   06-08-2019   23:23:00  F9 B5 B1047.3   CCAFS SLC-40                                      AMOS-17, Starlink 1 v1.0                6500          GTO                                                   Spacecom                           Success             No attempt \n",
      "74   11-11-2019   14:56:00   F9 B5 B1048.4  CCAFS SLC-40                                Starlink 1 v1.0, SpaceX CRS-19               15600          LEO                                                     SpaceX                           Success                 Success\n",
      "75   05-12-2019   17:29:00    F9 B5B1059.1  CCAFS SLC-40                           SpaceX CRS-19, JCSat-18 / Kacific 1                2617    LEO (ISS)                                      NASA (CRS), Kacific 1                           Success                 Success\n",
      "76   17-12-2019   00:10:00  F9 B5 B1056.3   CCAFS SLC-40                         JCSat-18 / Kacific 1, Starlink 2 v1.0                6956          GTO                                Sky Perfect JSAT, Kacific 1                           Success                 Success\n",
      "77   07-01-2020   02:33:00   F9 B5 B1049.4  CCAFS SLC-40             Starlink 2 v1.0, Crew Dragon in-flight abort test               15600          LEO                                                     SpaceX                           Success                 Success\n",
      "78   19-01-2020   15:30:00   F9 B5 B1046.4    KSC LC-39A             Crew Dragon in-flight abort test, Starlink 3 v1.0               12050  Sub-orbital                                                 NASA (CTS)                           Success              No attempt\n",
      "79   29-01-2020   14:07:00   F9 B5 B1051.3  CCAFS SLC-40                              Starlink 3 v1.0, Starlink 4 v1.0               15600          LEO                                                     SpaceX                           Success                 Success\n",
      "80   17-02-2020   15:05:00   F9 B5 B1056.4  CCAFS SLC-40                                 Starlink 4 v1.0, SpaceX CRS-20              15600          LEO                                                     SpaceX                           Success                 Failure\n",
      "81   07-03-2020   04:50:00   F9 B5 B1059.2  CCAFS SLC-40                                SpaceX CRS-20, Starlink 5 v1.0                1977    LEO (ISS)                                                 NASA (CRS)                           Success                 Success\n",
      "82   18-03-2020   12:16:00   F9 B5 B1048.5    KSC LC-39A                              Starlink 5 v1.0, Starlink 6 v1.0               15600          LEO                                                     SpaceX                           Success                 Failure\n",
      "83   22-04-2020   19:30:00   F9 B5 B1051.4    KSC LC-39A                           Starlink 6 v1.0, Crew Dragon Demo-2               15600          LEO                                                     SpaceX                           Success                 Success\n",
      "84   30-05-2020   19:22:00   F9 B5B1058.1     KSC LC-39A                           Crew Dragon Demo-2, Starlink 7 v1.0               12530    LEO (ISS)                                               NASA (CCDev)                           Success                 Success\n",
      "85   04-06-2020   01:25:00   F9 B5 B1049.5  CCAFS SLC-40                               Starlink 7 v1.0, Starlink 8 v1.0              15600          LEO                                        SpaceX, Planet Labs                           Success                 Success\n",
      "86   13-06-2020   09:21:00   F9 B5 B1059.3  CCAFS SLC-40             Starlink 8 v1.0, SkySats-16, -17, -18, GPS III-03               15410          LEO                                        SpaceX, Planet Labs                           Success                 Success\n",
      "87   30-06-2020   20:10:46    F9 B5B1060.1  CCAFS SLC-40                                          GPS III-03, ANASIS-II               4311          MEO                                           U.S. Space Force                           Success                 Success\n",
      "88   20-07-2020   21:30:00  F9 B5 B1058.2   CCAFS SLC-40                                     ANASIS-II, Starlink 9 v1.0               5500          GTO  Republic of Korea Army, Spaceflight Industries (BlackSky)                           Success                 Success\n",
      "89   07-08-2020   05:12:00   F9 B5 B1051.5    KSC LC-39A                     Starlink 9 v1.0, SXRS-1, Starlink 10 v1.0               14932          LEO     SpaceX, Spaceflight Industries (BlackSky), Planet Labs                           Success                 Success\n",
      "90   18-08-2020   14:31:00   F9 B5 B1049.6  CCAFS SLC-40              Starlink 10 v1.0, SkySat-19, -20, -21, SAOCOM 1B               15440          LEO                              SpaceX, Planet Labs, PlanetIQ                           Success                 Success\n",
      "91   30-08-2020   23:18:00   F9 B5 B1059.4  CCAFS SLC-40                                SAOCOM 1B, GNOMES 1, Tyvak-0172               3130          SSO                                    CONAE, PlanetIQ, SpaceX                           Success                 Success\n",
      "92   03-09-2020   12:46:14  F9 B5 B1060.2     KSC LC-39A                            Starlink 11 v1.0, Starlink 12 v1.0               15600          LEO                                                     SpaceX                           Success                 Success\n",
      "93   06-10-2020   11:29:34  F9 B5 B1058.3     KSC LC-39A                            Starlink 12 v1.0, Starlink 13 v1.0               15600          LEO                                                     SpaceX                           Success                 Success\n",
      "94   18-10-2020   12:25:57   F9 B5 B1051.6    KSC LC-39A                            Starlink 13 v1.0, Starlink 14 v1.0               15600          LEO                                                     SpaceX                           Success                 Success\n",
      "95   24-10-2020   15:31:34   F9 B5 B1060.3  CCAFS SLC-40                                 Starlink 14 v1.0, GPS III-04                15600          LEO                                                     SpaceX                           Success                 Success\n",
      "96   05-11-2020   23:24:23    F9 B5B1062.1  CCAFS SLC-40                                            GPS III-04 , Crew-1               4311          MEO                                                       USSF                           Success                 Success\n",
      "97   16-11-2020   00:27:00   F9 B5B1061.1     KSC LC-39A                           Crew-1, Sentinel-6 Michael Freilich               12500    LEO (ISS)                                                 NASA (CCP)                           Success                 Success\n",
      "98   21-11-2020   17:17:08    F9 B5B1063.1   VAFB SLC-4E                 Sentinel-6 Michael Freilich, Starlink 15 v1.0                1192          LEO                               NASA / NOAA / ESA / EUMETSAT                           Success                 Success\n",
      "99   25-11-2020   02:13:00  F9 B5 B1049.7   CCAFS SLC-40                                Starlink 15 v1.0, SpaceX CRS-21              15600          LEO                                                     SpaceX                           Success                 Success\n",
      "100  06-12-2020   16:17:08  F9 B5 B1058.4     KSC LC-39A                                                  SpaceX CRS-21               2972    LEO (ISS)                                                 NASA (CRS)                           Success                 Success\n"
     ]
    }
   ],
   "source": [
    "import pandas as pd\n",
    "df = pd.read_csv('Spacex.csv')\n",
    "\n",
    "print(df.to_string()) "
   ]
  },
  {
   "cell_type": "code",
   "execution_count": 3,
   "metadata": {},
   "outputs": [],
   "source": [
    "%load_ext sql"
   ]
  },
  {
   "cell_type": "code",
   "execution_count": 4,
   "metadata": {},
   "outputs": [],
   "source": [
    "import csv, sqlite3\n",
    "\n",
    "con = sqlite3.connect(\"my_data1.db\")\n",
    "cur = con.cursor()"
   ]
  },
  {
   "cell_type": "code",
   "execution_count": 5,
   "metadata": {},
   "outputs": [],
   "source": [
    "!pip install -q pandas==1.1.5"
   ]
  },
  {
   "cell_type": "code",
   "execution_count": 6,
   "metadata": {},
   "outputs": [],
   "source": [
    "%sql sqlite:///my_data1.db"
   ]
  },
  {
   "cell_type": "code",
   "execution_count": 7,
   "metadata": {},
   "outputs": [
    {
     "name": "stderr",
     "output_type": "stream",
     "text": [
      "C:\\Users\\Asus\\anaconda3\\lib\\site-packages\\pandas\\core\\generic.py:2605: UserWarning: The spaces in these column names will not be changed. In pandas versions < 0.14, spaces were converted to underscores.\n",
      "  sql.to_sql(\n"
     ]
    }
   ],
   "source": [
    "import pandas as pd\n",
    "df = pd.read_csv(\"https://cf-courses-data.s3.us.cloud-object-storage.appdomain.cloud/IBM-DS0321EN-SkillsNetwork/labs/module_2/data/Spacex.csv\")\n",
    "df.rename(columns = {'Landing _Outcome':'Landing_Outcome'}, inplace = True)\n",
    "df.to_sql('spacextbl', con, index=True,method='multi')\n"
   ]
  },
  {
   "cell_type": "markdown",
   "metadata": {},
   "source": [
    "## Tasks\n",
    "\n",
    "Now write and execute SQL queries to solve the assignment tasks.\n",
    "\n",
    "**Note: If the column names are in mixed case enclose it in double quotes\n",
    "For Example \"Landing_Outcome\"**\n",
    "\n",
    "### Task 1\n",
    "\n",
    "##### Display the names of the unique launch sites  in the space mission\n"
   ]
  },
  {
   "cell_type": "code",
   "execution_count": 8,
   "metadata": {},
   "outputs": [
    {
     "name": "stdout",
     "output_type": "stream",
     "text": [
      " * sqlite:///my_data1.db\n",
      "Done.\n"
     ]
    },
    {
     "data": {
      "text/html": [
       "<table>\n",
       "    <tr>\n",
       "        <th>Launch_Site</th>\n",
       "    </tr>\n",
       "    <tr>\n",
       "        <td>CCAFS LC-40</td>\n",
       "    </tr>\n",
       "    <tr>\n",
       "        <td>VAFB SLC-4E</td>\n",
       "    </tr>\n",
       "    <tr>\n",
       "        <td>KSC LC-39A</td>\n",
       "    </tr>\n",
       "    <tr>\n",
       "        <td>CCAFS SLC-40</td>\n",
       "    </tr>\n",
       "</table>"
      ],
      "text/plain": [
       "[('CCAFS LC-40',), ('VAFB SLC-4E',), ('KSC LC-39A',), ('CCAFS SLC-40',)]"
      ]
     },
     "execution_count": 8,
     "metadata": {},
     "output_type": "execute_result"
    }
   ],
   "source": [
    "%sql select DISTINCT[Launch_Site] from spacextbl"
   ]
  },
  {
   "cell_type": "markdown",
   "metadata": {},
   "source": [
    "### Task 2\n",
    "\n",
    "##### Display 5 records where launch sites begin with the string 'CCA'\n"
   ]
  },
  {
   "cell_type": "code",
   "execution_count": 9,
   "metadata": {},
   "outputs": [
    {
     "name": "stdout",
     "output_type": "stream",
     "text": [
      " * sqlite:///my_data1.db\n",
      "Done.\n"
     ]
    },
    {
     "data": {
      "text/html": [
       "<table>\n",
       "    <tr>\n",
       "        <th>index</th>\n",
       "        <th>Date</th>\n",
       "        <th>Time (UTC)</th>\n",
       "        <th>Booster_Version</th>\n",
       "        <th>Launch_Site</th>\n",
       "        <th>Payload</th>\n",
       "        <th>PAYLOAD_MASS__KG_</th>\n",
       "        <th>Orbit</th>\n",
       "        <th>Customer</th>\n",
       "        <th>Mission_Outcome</th>\n",
       "        <th>Landing_Outcome</th>\n",
       "    </tr>\n",
       "    <tr>\n",
       "        <td>0</td>\n",
       "        <td>04-06-2010</td>\n",
       "        <td>18:45:00</td>\n",
       "        <td>F9 v1.0  B0003</td>\n",
       "        <td>CCAFS LC-40</td>\n",
       "        <td>Dragon Spacecraft Qualification Unit</td>\n",
       "        <td>0</td>\n",
       "        <td>LEO</td>\n",
       "        <td>SpaceX</td>\n",
       "        <td>Success</td>\n",
       "        <td>Failure (parachute)</td>\n",
       "    </tr>\n",
       "    <tr>\n",
       "        <td>1</td>\n",
       "        <td>08-12-2010</td>\n",
       "        <td>15:43:00</td>\n",
       "        <td>F9 v1.0  B0004</td>\n",
       "        <td>CCAFS LC-40</td>\n",
       "        <td>Dragon demo flight C1, two CubeSats, barrel of Brouere cheese</td>\n",
       "        <td>0</td>\n",
       "        <td>LEO (ISS)</td>\n",
       "        <td>NASA (COTS) NRO</td>\n",
       "        <td>Success</td>\n",
       "        <td>Failure (parachute)</td>\n",
       "    </tr>\n",
       "    <tr>\n",
       "        <td>2</td>\n",
       "        <td>22-05-2012</td>\n",
       "        <td>07:44:00</td>\n",
       "        <td>F9 v1.0  B0005</td>\n",
       "        <td>CCAFS LC-40</td>\n",
       "        <td>Dragon demo flight C2</td>\n",
       "        <td>525</td>\n",
       "        <td>LEO (ISS)</td>\n",
       "        <td>NASA (COTS)</td>\n",
       "        <td>Success</td>\n",
       "        <td>No attempt</td>\n",
       "    </tr>\n",
       "    <tr>\n",
       "        <td>3</td>\n",
       "        <td>08-10-2012</td>\n",
       "        <td>00:35:00</td>\n",
       "        <td>F9 v1.0  B0006</td>\n",
       "        <td>CCAFS LC-40</td>\n",
       "        <td>SpaceX CRS-1</td>\n",
       "        <td>500</td>\n",
       "        <td>LEO (ISS)</td>\n",
       "        <td>NASA (CRS)</td>\n",
       "        <td>Success</td>\n",
       "        <td>No attempt</td>\n",
       "    </tr>\n",
       "    <tr>\n",
       "        <td>4</td>\n",
       "        <td>01-03-2013</td>\n",
       "        <td>15:10:00</td>\n",
       "        <td>F9 v1.0  B0007</td>\n",
       "        <td>CCAFS LC-40</td>\n",
       "        <td>SpaceX CRS-2</td>\n",
       "        <td>677</td>\n",
       "        <td>LEO (ISS)</td>\n",
       "        <td>NASA (CRS)</td>\n",
       "        <td>Success</td>\n",
       "        <td>No attempt</td>\n",
       "    </tr>\n",
       "</table>"
      ],
      "text/plain": [
       "[(0, '04-06-2010', '18:45:00', 'F9 v1.0  B0003', 'CCAFS LC-40', 'Dragon Spacecraft Qualification Unit', 0, 'LEO', 'SpaceX', 'Success', 'Failure (parachute)'),\n",
       " (1, '08-12-2010', '15:43:00', 'F9 v1.0  B0004', 'CCAFS LC-40', 'Dragon demo flight C1, two CubeSats, barrel of Brouere cheese', 0, 'LEO (ISS)', 'NASA (COTS) NRO', 'Success', 'Failure (parachute)'),\n",
       " (2, '22-05-2012', '07:44:00', 'F9 v1.0  B0005', 'CCAFS LC-40', 'Dragon demo flight C2', 525, 'LEO (ISS)', 'NASA (COTS)', 'Success', 'No attempt'),\n",
       " (3, '08-10-2012', '00:35:00', 'F9 v1.0  B0006', 'CCAFS LC-40', 'SpaceX CRS-1', 500, 'LEO (ISS)', 'NASA (CRS)', 'Success', 'No attempt'),\n",
       " (4, '01-03-2013', '15:10:00', 'F9 v1.0  B0007', 'CCAFS LC-40', 'SpaceX CRS-2', 677, 'LEO (ISS)', 'NASA (CRS)', 'Success', 'No attempt')]"
      ]
     },
     "execution_count": 9,
     "metadata": {},
     "output_type": "execute_result"
    }
   ],
   "source": [
    "%sql select * from spacextbl where Launch_Site like 'CCA%' limit 5\n"
   ]
  },
  {
   "cell_type": "markdown",
   "metadata": {},
   "source": [
    "### Task 3\n",
    "\n",
    "##### Display the total payload mass carried by boosters launched by NASA (CRS)\n"
   ]
  },
  {
   "cell_type": "code",
   "execution_count": 10,
   "metadata": {},
   "outputs": [
    {
     "name": "stdout",
     "output_type": "stream",
     "text": [
      " * sqlite:///my_data1.db\n",
      "Done.\n"
     ]
    },
    {
     "data": {
      "text/html": [
       "<table>\n",
       "    <tr>\n",
       "        <th>sum(PAYLOAD_MASS__KG_)</th>\n",
       "    </tr>\n",
       "    <tr>\n",
       "        <td>48213</td>\n",
       "    </tr>\n",
       "</table>"
      ],
      "text/plain": [
       "[(48213,)]"
      ]
     },
     "execution_count": 10,
     "metadata": {},
     "output_type": "execute_result"
    }
   ],
   "source": [
    "%sql select sum(PAYLOAD_MASS__KG_) from spacextbl where Customer like 'NASA (CRS)%' "
   ]
  },
  {
   "cell_type": "markdown",
   "metadata": {},
   "source": [
    "### Task 4\n",
    "\n",
    "##### Display average payload mass carried by booster version F9 v1.1\n"
   ]
  },
  {
   "cell_type": "code",
   "execution_count": 11,
   "metadata": {},
   "outputs": [
    {
     "name": "stdout",
     "output_type": "stream",
     "text": [
      " * sqlite:///my_data1.db\n",
      "Done.\n"
     ]
    },
    {
     "data": {
      "text/html": [
       "<table>\n",
       "    <tr>\n",
       "        <th>avg(PAYLOAD_MASS__KG_)</th>\n",
       "    </tr>\n",
       "    <tr>\n",
       "        <td>2534.6666666666665</td>\n",
       "    </tr>\n",
       "</table>"
      ],
      "text/plain": [
       "[(2534.6666666666665,)]"
      ]
     },
     "execution_count": 11,
     "metadata": {},
     "output_type": "execute_result"
    }
   ],
   "source": [
    "%sql select avg(PAYLOAD_MASS__KG_) from spacextbl where Booster_Version like 'F9 v1.1%' "
   ]
  },
  {
   "cell_type": "markdown",
   "metadata": {},
   "source": [
    "### Task 5\n",
    "\n",
    "##### List the date when the first succesful landing outcome in ground pad was acheived.\n",
    "\n",
    "*Hint:Use min function*\n"
   ]
  },
  {
   "cell_type": "code",
   "execution_count": 24,
   "metadata": {},
   "outputs": [
    {
     "name": "stdout",
     "output_type": "stream",
     "text": [
      " * sqlite:///my_data1.db\n",
      "Done.\n"
     ]
    },
    {
     "data": {
      "text/html": [
       "<table>\n",
       "    <tr>\n",
       "        <th>Date</th>\n",
       "    </tr>\n",
       "    <tr>\n",
       "        <td>22-12-2015</td>\n",
       "    </tr>\n",
       "</table>"
      ],
      "text/plain": [
       "[('22-12-2015',)]"
      ]
     },
     "execution_count": 24,
     "metadata": {},
     "output_type": "execute_result"
    }
   ],
   "source": [
    "%sql select Date from spacextbl where Landing_Outcome = 'Success (ground pad)' order by Date Desc limit 1"
   ]
  },
  {
   "cell_type": "code",
   "execution_count": 17,
   "metadata": {},
   "outputs": [
    {
     "name": "stdout",
     "output_type": "stream",
     "text": [
      " * sqlite:///my_data1.db\n",
      "Done.\n"
     ]
    },
    {
     "data": {
      "text/html": [
       "<table>\n",
       "    <tr>\n",
       "        <th>index</th>\n",
       "        <th>Date</th>\n",
       "        <th>Time (UTC)</th>\n",
       "        <th>Booster_Version</th>\n",
       "        <th>Launch_Site</th>\n",
       "        <th>Payload</th>\n",
       "        <th>PAYLOAD_MASS__KG_</th>\n",
       "        <th>Orbit</th>\n",
       "        <th>Customer</th>\n",
       "        <th>Mission_Outcome</th>\n",
       "        <th>Landing_Outcome</th>\n",
       "    </tr>\n",
       "</table>"
      ],
      "text/plain": [
       "[]"
      ]
     },
     "execution_count": 17,
     "metadata": {},
     "output_type": "execute_result"
    }
   ],
   "source": []
  },
  {
   "cell_type": "markdown",
   "metadata": {},
   "source": [
    "### Task 6\n",
    "\n",
    "##### List the names of the boosters which have success in drone ship and have payload mass greater than 4000 but less than 6000\n"
   ]
  },
  {
   "cell_type": "code",
   "execution_count": 25,
   "metadata": {},
   "outputs": [
    {
     "name": "stdout",
     "output_type": "stream",
     "text": [
      " * sqlite:///my_data1.db\n",
      "Done.\n"
     ]
    },
    {
     "data": {
      "text/html": [
       "<table>\n",
       "    <tr>\n",
       "        <th>Booster_Version</th>\n",
       "    </tr>\n",
       "    <tr>\n",
       "        <td>F9 FT B1022</td>\n",
       "    </tr>\n",
       "    <tr>\n",
       "        <td>F9 FT B1026</td>\n",
       "    </tr>\n",
       "    <tr>\n",
       "        <td>F9 FT  B1021.2</td>\n",
       "    </tr>\n",
       "    <tr>\n",
       "        <td>F9 FT  B1031.2</td>\n",
       "    </tr>\n",
       "</table>"
      ],
      "text/plain": [
       "[('F9 FT B1022',), ('F9 FT B1026',), ('F9 FT  B1021.2',), ('F9 FT  B1031.2',)]"
      ]
     },
     "execution_count": 25,
     "metadata": {},
     "output_type": "execute_result"
    }
   ],
   "source": [
    "%sql select Booster_Version from spacextbl where (Mission_Outcome = 'Success') AND ( PAYLOAD_MASS__KG_ Between 4000 and 6000) AND( Landing_Outcome = 'Success (drone ship)')"
   ]
  },
  {
   "cell_type": "markdown",
   "metadata": {},
   "source": [
    "### Task 7\n",
    "\n",
    "##### List the total number of successful and failure mission outcomes\n"
   ]
  },
  {
   "cell_type": "code",
   "execution_count": 41,
   "metadata": {},
   "outputs": [
    {
     "name": "stdout",
     "output_type": "stream",
     "text": [
      " * sqlite:///my_data1.db\n",
      "Done.\n"
     ]
    },
    {
     "data": {
      "text/html": [
       "<table>\n",
       "    <tr>\n",
       "        <th>Mission_Outcome</th>\n",
       "        <th>count(*)</th>\n",
       "    </tr>\n",
       "    <tr>\n",
       "        <td>Failure (in flight)</td>\n",
       "        <td>1</td>\n",
       "    </tr>\n",
       "    <tr>\n",
       "        <td>Success</td>\n",
       "        <td>98</td>\n",
       "    </tr>\n",
       "    <tr>\n",
       "        <td>Success </td>\n",
       "        <td>1</td>\n",
       "    </tr>\n",
       "    <tr>\n",
       "        <td>Success (payload status unclear)</td>\n",
       "        <td>1</td>\n",
       "    </tr>\n",
       "</table>"
      ],
      "text/plain": [
       "[('Failure (in flight)', 1),\n",
       " ('Success', 98),\n",
       " ('Success ', 1),\n",
       " ('Success (payload status unclear)', 1)]"
      ]
     },
     "execution_count": 41,
     "metadata": {},
     "output_type": "execute_result"
    }
   ],
   "source": [
    "%sql select Mission_Outcome , count(*) from spacextbl Group by  Mission_Outcome"
   ]
  },
  {
   "cell_type": "markdown",
   "metadata": {},
   "source": [
    "### Task 8\n",
    "\n",
    "##### List the   names of the booster_versions which have carried the maximum payload mass. Use a subquery\n"
   ]
  },
  {
   "cell_type": "code",
   "execution_count": 42,
   "metadata": {},
   "outputs": [
    {
     "name": "stdout",
     "output_type": "stream",
     "text": [
      " * sqlite:///my_data1.db\n",
      "Done.\n"
     ]
    },
    {
     "data": {
      "text/html": [
       "<table>\n",
       "    <tr>\n",
       "        <th>Booster_Version</th>\n",
       "    </tr>\n",
       "    <tr>\n",
       "        <td>F9 B5 B1048.4</td>\n",
       "    </tr>\n",
       "    <tr>\n",
       "        <td>F9 B5 B1049.4</td>\n",
       "    </tr>\n",
       "    <tr>\n",
       "        <td>F9 B5 B1051.3</td>\n",
       "    </tr>\n",
       "    <tr>\n",
       "        <td>F9 B5 B1056.4</td>\n",
       "    </tr>\n",
       "    <tr>\n",
       "        <td>F9 B5 B1048.5</td>\n",
       "    </tr>\n",
       "    <tr>\n",
       "        <td>F9 B5 B1051.4</td>\n",
       "    </tr>\n",
       "    <tr>\n",
       "        <td>F9 B5 B1049.5</td>\n",
       "    </tr>\n",
       "    <tr>\n",
       "        <td>F9 B5 B1060.2 </td>\n",
       "    </tr>\n",
       "    <tr>\n",
       "        <td>F9 B5 B1058.3 </td>\n",
       "    </tr>\n",
       "    <tr>\n",
       "        <td>F9 B5 B1051.6</td>\n",
       "    </tr>\n",
       "    <tr>\n",
       "        <td>F9 B5 B1060.3</td>\n",
       "    </tr>\n",
       "    <tr>\n",
       "        <td>F9 B5 B1049.7 </td>\n",
       "    </tr>\n",
       "</table>"
      ],
      "text/plain": [
       "[('F9 B5 B1048.4',),\n",
       " ('F9 B5 B1049.4',),\n",
       " ('F9 B5 B1051.3',),\n",
       " ('F9 B5 B1056.4',),\n",
       " ('F9 B5 B1048.5',),\n",
       " ('F9 B5 B1051.4',),\n",
       " ('F9 B5 B1049.5',),\n",
       " ('F9 B5 B1060.2 ',),\n",
       " ('F9 B5 B1058.3 ',),\n",
       " ('F9 B5 B1051.6',),\n",
       " ('F9 B5 B1060.3',),\n",
       " ('F9 B5 B1049.7 ',)]"
      ]
     },
     "execution_count": 42,
     "metadata": {},
     "output_type": "execute_result"
    }
   ],
   "source": [
    "%sql select booster_version from spacextbl where PAYLOAD_MASS__KG_=(select max(PAYLOAD_MASS__KG_) from spacextbl)"
   ]
  },
  {
   "cell_type": "markdown",
   "metadata": {},
   "source": [
    "### Task 9\n",
    "\n",
    "##### List the records which will display the month names, failure landing_outcomes in drone ship ,booster versions, launch_site for the months in year 2015.\n",
    "\n",
    "**Note: SQLLite does not support monthnames. So you need to use  substr(Date, 4, 2) as month to get the months and substr(Date,7,4)='2015' for year.**\n"
   ]
  },
  {
   "cell_type": "code",
   "execution_count": 61,
   "metadata": {},
   "outputs": [
    {
     "name": "stdout",
     "output_type": "stream",
     "text": [
      " * sqlite:///my_data1.db\n",
      "Done.\n"
     ]
    },
    {
     "data": {
      "text/html": [
       "<table>\n",
       "    <tr>\n",
       "        <th>month</th>\n",
       "        <th>Landing_Outcome</th>\n",
       "        <th>Booster_Version</th>\n",
       "        <th>Launch_Site</th>\n",
       "    </tr>\n",
       "    <tr>\n",
       "        <td>01</td>\n",
       "        <td>Failure (drone ship)</td>\n",
       "        <td>F9 v1.1 B1012</td>\n",
       "        <td>CCAFS LC-40</td>\n",
       "    </tr>\n",
       "    <tr>\n",
       "        <td>04</td>\n",
       "        <td>Failure (drone ship)</td>\n",
       "        <td>F9 v1.1 B1015</td>\n",
       "        <td>CCAFS LC-40</td>\n",
       "    </tr>\n",
       "</table>"
      ],
      "text/plain": [
       "[('01', 'Failure (drone ship)', 'F9 v1.1 B1012', 'CCAFS LC-40'),\n",
       " ('04', 'Failure (drone ship)', 'F9 v1.1 B1015', 'CCAFS LC-40')]"
      ]
     },
     "execution_count": 61,
     "metadata": {},
     "output_type": "execute_result"
    }
   ],
   "source": [
    "%sql select substr(Date, 4, 2) as month,Landing_outcome,Booster_Version,launch_site from spacextbl where substr(Date,7,4) == '2015' and Landing_Outcome like 'Failure%'"
   ]
  },
  {
   "cell_type": "markdown",
   "metadata": {},
   "source": [
    "### Task 10\n",
    "\n",
    "##### Rank the  count of  successful landing_outcomes between the date 04-06-2010 and 20-03-2017 in descending order.\n"
   ]
  },
  {
   "cell_type": "code",
   "execution_count": 73,
   "metadata": {},
   "outputs": [
    {
     "name": "stdout",
     "output_type": "stream",
     "text": [
      " * sqlite:///my_data1.db\n",
      "Done.\n"
     ]
    },
    {
     "data": {
      "text/html": [
       "<table>\n",
       "    <tr>\n",
       "        <th>Landing_Outcome</th>\n",
       "        <th>number</th>\n",
       "    </tr>\n",
       "    <tr>\n",
       "        <td>Success</td>\n",
       "        <td>20</td>\n",
       "    </tr>\n",
       "    <tr>\n",
       "        <td>Success (drone ship)</td>\n",
       "        <td>8</td>\n",
       "    </tr>\n",
       "    <tr>\n",
       "        <td>Success (ground pad)</td>\n",
       "        <td>6</td>\n",
       "    </tr>\n",
       "</table>"
      ],
      "text/plain": [
       "[('Success', 20), ('Success (drone ship)', 8), ('Success (ground pad)', 6)]"
      ]
     },
     "execution_count": 73,
     "metadata": {},
     "output_type": "execute_result"
    }
   ],
   "source": [
    "%sql select Landing_outcome,COUNT(*) as number from spacextbl where (Date between '04-06-2010' and '20-03-2017' ) and (Landing_outcome like 'Success%') group by Landing_outcome Order by number desc"
   ]
  },
  {
   "cell_type": "markdown",
   "metadata": {},
   "source": [
    "### Reference Links\n",
    "\n",
    "*   <a href =\"https://cf-courses-data.s3.us.cloud-object-storage.appdomain.cloud/IBMDeveloperSkillsNetwork-DB0201EN-SkillsNetwork/labs/Labs_Coursera_V5/labs/Lab%20-%20String%20Patterns%20-%20Sorting%20-%20Grouping/instructional-labs.md.html?utm_medium=Exinfluencer&utm_source=Exinfluencer&utm_content=000026UJ&utm_term=10006555&utm_id=NA-SkillsNetwork-Channel-SkillsNetworkCoursesIBMDS0321ENSkillsNetwork26802033-2022-01-01&origin=www.coursera.org\">Hands-on Lab : String Patterns, Sorting and Grouping</a>\n",
    "\n",
    "*   <a  href=\"https://cf-courses-data.s3.us.cloud-object-storage.appdomain.cloud/IBMDeveloperSkillsNetwork-DB0201EN-SkillsNetwork/labs/Labs_Coursera_V5/labs/Lab%20-%20Built-in%20functions%20/Hands-on_Lab__Built-in_Functions.md.html?utm_medium=Exinfluencer&utm_source=Exinfluencer&utm_content=000026UJ&utm_term=10006555&utm_id=NA-SkillsNetwork-Channel-SkillsNetworkCoursesIBMDS0321ENSkillsNetwork26802033-2022-01-01&origin=www.coursera.org\">Hands-on Lab: Built-in functions</a>\n",
    "\n",
    "*   <a  href=\"https://cf-courses-data.s3.us.cloud-object-storage.appdomain.cloud/IBMDeveloperSkillsNetwork-DB0201EN-SkillsNetwork/labs/Labs_Coursera_V5/labs/Lab%20-%20Sub-queries%20and%20Nested%20SELECTs%20/instructional-labs.md.html?utm_medium=Exinfluencer&utm_source=Exinfluencer&utm_content=000026UJ&utm_term=10006555&utm_id=NA-SkillsNetwork-Channel-SkillsNetworkCoursesIBMDS0321ENSkillsNetwork26802033-2022-01-01&origin=www.coursera.org\">Hands-on Lab : Sub-queries and Nested SELECT Statements</a>\n",
    "\n",
    "*   <a href=\"https://cf-courses-data.s3.us.cloud-object-storage.appdomain.cloud/IBMDeveloperSkillsNetwork-DB0201EN-SkillsNetwork/labs/Module%205/DB0201EN-Week3-1-3-SQLmagic.ipynb?utm_medium=Exinfluencer&utm_source=Exinfluencer&utm_content=000026UJ&utm_term=10006555&utm_id=NA-SkillsNetwork-Channel-SkillsNetworkCoursesIBMDS0321ENSkillsNetwork26802033-2022-01-01\">Hands-on Tutorial: Accessing Databases with SQL magic</a>\n",
    "\n",
    "*   <a href= \"https://cf-courses-data.s3.us.cloud-object-storage.appdomain.cloud/IBMDeveloperSkillsNetwork-DB0201EN-SkillsNetwork/labs/Module%205/DB0201EN-Week3-1-4-Analyzing.ipynb?utm_medium=Exinfluencer&utm_source=Exinfluencer&utm_content=000026UJ&utm_term=10006555&utm_id=NA-SkillsNetwork-Channel-SkillsNetworkCoursesIBMDS0321ENSkillsNetwork26802033-2022-01-01\">Hands-on Lab: Analyzing a real World Data Set</a>\n"
   ]
  },
  {
   "cell_type": "markdown",
   "metadata": {},
   "source": [
    "## Author(s)\n",
    "\n",
    "<h4> Lakshmi Holla </h4>\n"
   ]
  },
  {
   "cell_type": "markdown",
   "metadata": {},
   "source": [
    "## Other Contributors\n",
    "\n",
    "<h4> Rav Ahuja </h4>\n"
   ]
  },
  {
   "cell_type": "markdown",
   "metadata": {},
   "source": [
    "## Change log\n",
    "\n",
    "| Date       | Version | Changed by    | Change Description        |\n",
    "| ---------- | ------- | ------------- | ------------------------- |\n",
    "| 2021-07-09 | 0.2     | Lakshmi Holla | Changes made in magic sql |\n",
    "| 2021-05-20 | 0.1     | Lakshmi Holla | Created Initial Version   |\n"
   ]
  },
  {
   "cell_type": "markdown",
   "metadata": {},
   "source": [
    "## <h3 align=\"center\"> © IBM Corporation 2021. All rights reserved. <h3/>\n"
   ]
  }
 ],
 "metadata": {
  "kernelspec": {
   "display_name": "Python 3 (ipykernel)",
   "language": "python",
   "name": "python3"
  },
  "language_info": {
   "codemirror_mode": {
    "name": "ipython",
    "version": 3
   },
   "file_extension": ".py",
   "mimetype": "text/x-python",
   "name": "python",
   "nbconvert_exporter": "python",
   "pygments_lexer": "ipython3",
   "version": "3.9.12"
  }
 },
 "nbformat": 4,
 "nbformat_minor": 4
}
